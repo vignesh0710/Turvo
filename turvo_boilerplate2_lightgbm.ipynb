{
 "cells": [
  {
   "cell_type": "code",
   "execution_count": 16,
   "metadata": {
    "collapsed": false
   },
   "outputs": [],
   "source": [
    "import numpy as np\n",
    "import matplotlib.pyplot as plt\n",
    "import pandas as pd\n",
    "import seaborn as sns\n",
    "import lightgbm\n",
    "from sklearn.preprocessing import LabelEncoder, OneHotEncoder"
   ]
  },
  {
   "cell_type": "markdown",
   "metadata": {},
   "source": [
    "## Loading the training data and preprocessing which should be changed for Turvo Data"
   ]
  },
  {
   "cell_type": "code",
   "execution_count": 10,
   "metadata": {
    "collapsed": false
   },
   "outputs": [
    {
     "name": "stderr",
     "output_type": "stream",
     "text": [
      "/Users/vigneshsureshbabu/anaconda/lib/python3.5/site-packages/ipykernel/__main__.py:20: DeprecationWarning: \n",
      ".ix is deprecated. Please use\n",
      ".loc for label based indexing or\n",
      ".iloc for positional indexing\n",
      "\n",
      "See the documentation here:\n",
      "http://pandas.pydata.org/pandas-docs/stable/indexing.html#ix-indexer-is-deprecated\n"
     ]
    }
   ],
   "source": [
    "bookings_df_train = pd.read_csv(\"train.csv\", delim_whitespace= True)\n",
    "#print(bookings_df_train.head())\n",
    "\n",
    "actions_df_train = pd.read_csv(\"Test.csv\", delim_whitespace= True)\n",
    "#print(actions_df_train.head())\n",
    "\n",
    "\n",
    "whole_df = pd.merge(bookings_df_train,actions_df_train,\n",
    "                        on = ['ymd','user_id','session_id'], how = \"inner\")\n",
    "\n",
    "del whole_df['ymd'];del whole_df['user_id'];del whole_df['session_id']\n",
    "for each_column in whole_df.columns:\n",
    "    whole_df[each_column] = whole_df[each_column].astype('category')\n",
    "\n",
    "    \n",
    "cols = list(whole_df)\n",
    "cols.append(cols.pop(cols.index('has_booking')))\n",
    "#print (cols)\n",
    "\n",
    "whole_df = whole_df.ix[:, cols]\n",
    "#whole_df.head()"
   ]
  },
  {
   "cell_type": "markdown",
   "metadata": {},
   "source": [
    "## Checking For Missing Values"
   ]
  },
  {
   "cell_type": "code",
   "execution_count": 4,
   "metadata": {
    "collapsed": false
   },
   "outputs": [
    {
     "name": "stdout",
     "output_type": "stream",
     "text": [
      "referer_code: 0\n",
      "is_app: 0\n",
      "agent_id: 0\n",
      "traffic_type: 0\n",
      "action_id: 0\n",
      "reference: 0\n",
      "step: 0\n",
      "has_booking: 0\n"
     ]
    }
   ],
   "source": [
    "#CHECK FOR MISSING VALUES\n",
    "for col in whole_df.columns:\n",
    "    print (col,end=\": \")\n",
    "    print (sum(whole_df[col].isnull()))"
   ]
  },
  {
   "cell_type": "markdown",
   "metadata": {},
   "source": [
    "## Splitting the train and test data"
   ]
  },
  {
   "cell_type": "code",
   "execution_count": 5,
   "metadata": {
    "collapsed": false
   },
   "outputs": [
    {
     "name": "stdout",
     "output_type": "stream",
     "text": [
      "(4690290, 7)\n",
      "(4690290,)\n",
      "(1172573, 7)\n",
      "(1172573,)\n"
     ]
    }
   ],
   "source": [
    "from sklearn.model_selection import train_test_split\n",
    "train, test = train_test_split(whole_df, test_size = 0.2)\n",
    "X_train, y_train = train.drop('has_booking', axis=1), train['has_booking']\n",
    "X_test, y_test = test.drop('has_booking', axis=1), test['has_booking']\n",
    "\n",
    "print (X_train.shape)\n",
    "print (y_train.shape)\n",
    "print (X_test.shape)\n",
    "print (y_test.shape)"
   ]
  },
  {
   "cell_type": "markdown",
   "metadata": {},
   "source": [
    "## Train the Model Using Gradient Boosting"
   ]
  },
  {
   "cell_type": "markdown",
   "metadata": {},
   "source": [
    "## Model can be converted to Random Forest by changing 'boosting' to 'rf'"
   ]
  },
  {
   "cell_type": "code",
   "execution_count": 19,
   "metadata": {
    "collapsed": false
   },
   "outputs": [
    {
     "name": "stdout",
     "output_type": "stream",
     "text": [
      "['referer_code', 'is_app', 'agent_id', 'traffic_type', 'action_id', 'reference', 'step', 'has_booking']\n",
      "['referer_code', 'is_app', 'agent_id', 'traffic_type', 'action_id', 'reference', 'step']\n"
     ]
    },
    {
     "name": "stderr",
     "output_type": "stream",
     "text": [
      "/Users/vigneshsureshbabu/anaconda/lib/python3.5/site-packages/lightgbm/basic.py:1036: UserWarning: Using categorical_feature in Dataset.\n",
      "  warnings.warn('Using categorical_feature in Dataset.')\n",
      "/Users/vigneshsureshbabu/anaconda/lib/python3.5/site-packages/lightgbm/basic.py:1038: UserWarning: categorical_feature in Dataset is overrided. New categorical_feature is ['action_id', 'agent_id', 'is_app', 'reference', 'referer_code', 'step', 'traffic_type']\n",
      "  warnings.warn('categorical_feature in Dataset is overrided. New categorical_feature is {}'.format(sorted(list(categorical_feature))))\n",
      "/Users/vigneshsureshbabu/anaconda/lib/python3.5/site-packages/lightgbm/basic.py:681: UserWarning: categorical_feature in param dict is overrided.\n",
      "  warnings.warn('categorical_feature in param dict is overrided.')\n"
     ]
    },
    {
     "name": "stdout",
     "output_type": "stream",
     "text": [
      "[1]\tvalid_0's l2: 0.112298\tvalid_0's l2: 0.112298\n",
      "Training until validation scores don't improve for 10 rounds.\n",
      "[2]\tvalid_0's l2: 0.111481\tvalid_0's l2: 0.111481\n",
      "[3]\tvalid_0's l2: 0.110741\tvalid_0's l2: 0.110741\n",
      "[4]\tvalid_0's l2: 0.110073\tvalid_0's l2: 0.110073\n",
      "[5]\tvalid_0's l2: 0.109435\tvalid_0's l2: 0.109435\n",
      "[6]\tvalid_0's l2: 0.108877\tvalid_0's l2: 0.108877\n",
      "[7]\tvalid_0's l2: 0.108342\tvalid_0's l2: 0.108342\n",
      "[8]\tvalid_0's l2: 0.107862\tvalid_0's l2: 0.107862\n",
      "[9]\tvalid_0's l2: 0.107413\tvalid_0's l2: 0.107413\n",
      "[10]\tvalid_0's l2: 0.106995\tvalid_0's l2: 0.106995\n",
      "[11]\tvalid_0's l2: 0.106579\tvalid_0's l2: 0.106579\n",
      "[12]\tvalid_0's l2: 0.106229\tvalid_0's l2: 0.106229\n",
      "[13]\tvalid_0's l2: 0.105857\tvalid_0's l2: 0.105857\n",
      "[14]\tvalid_0's l2: 0.105538\tvalid_0's l2: 0.105538\n",
      "[15]\tvalid_0's l2: 0.105227\tvalid_0's l2: 0.105227\n",
      "[16]\tvalid_0's l2: 0.104914\tvalid_0's l2: 0.104914\n",
      "[17]\tvalid_0's l2: 0.104644\tvalid_0's l2: 0.104644\n",
      "[18]\tvalid_0's l2: 0.104373\tvalid_0's l2: 0.104373\n",
      "[19]\tvalid_0's l2: 0.104144\tvalid_0's l2: 0.104144\n",
      "[20]\tvalid_0's l2: 0.103908\tvalid_0's l2: 0.103908\n",
      "[21]\tvalid_0's l2: 0.103681\tvalid_0's l2: 0.103681\n",
      "[22]\tvalid_0's l2: 0.103481\tvalid_0's l2: 0.103481\n",
      "[23]\tvalid_0's l2: 0.10326\tvalid_0's l2: 0.10326\n",
      "[24]\tvalid_0's l2: 0.10305\tvalid_0's l2: 0.10305\n",
      "[25]\tvalid_0's l2: 0.10288\tvalid_0's l2: 0.10288\n",
      "Did not meet early stopping. Best iteration is:\n",
      "[25]\tvalid_0's l2: 0.10288\tvalid_0's l2: 0.10288\n"
     ]
    }
   ],
   "source": [
    "cols = list(whole_df.columns)\n",
    "print (cols)\n",
    "\n",
    "cols.remove('has_booking')\n",
    "\n",
    "print (cols)\n",
    "\n",
    "train_data = lightgbm.Dataset(X_train, label=y_train, categorical_feature=cols)\n",
    "test_data = lightgbm.Dataset(X_test, label=y_test)\n",
    "\n",
    "\n",
    "parameters = {\n",
    "    'objective': 'regression',\n",
    "    'metric': {'l2', 'mse'},\n",
    "    'boosting': 'gbdt',\n",
    "    'num_leaves': 31,\n",
    "    'bagging_fraction': 0.75,\n",
    "    'bagging_freq': 20,\n",
    "    'learning_rate': 0.05,\n",
    "    'verbose': 3\n",
    "}\n",
    "\n",
    "\n",
    "model = lightgbm.train(parameters,\n",
    "                       train_data,\n",
    "                       valid_sets=test_data,\n",
    "                       num_boost_round=25,\n",
    "                       early_stopping_rounds=10)\n"
   ]
  },
  {
   "cell_type": "markdown",
   "metadata": {},
   "source": [
    "## Predicting on the test data using the trained model"
   ]
  },
  {
   "cell_type": "code",
   "execution_count": 8,
   "metadata": {
    "collapsed": false
   },
   "outputs": [
    {
     "name": "stderr",
     "output_type": "stream",
     "text": [
      "/Users/vigneshsureshbabu/anaconda/lib/python3.5/site-packages/ipykernel/__main__.py:9: DeprecationWarning: \n",
      ".ix is deprecated. Please use\n",
      ".loc for label based indexing or\n",
      ".iloc for positional indexing\n",
      "\n",
      "See the documentation here:\n",
      "http://pandas.pydata.org/pandas-docs/stable/indexing.html#ix-indexer-is-deprecated\n"
     ]
    },
    {
     "name": "stdout",
     "output_type": "stream",
     "text": [
      "152555  Bookings  7461  Predicitons  7253  correct  97.21216995040879  percentage\n"
     ]
    }
   ],
   "source": [
    "predict_y_proba_gbm = model.predict(X_test, num_iteration=model.best_iteration)\n",
    "predict_y_gbm = np.where(predict_y_proba_gbm.reshape((predict_y_proba_gbm.shape[0])) > 0.5, 1, 0)\n",
    "\n",
    "#y = model.predict(X_test)\n",
    "\n",
    "df_model = pd.DataFrame(data=test, index=test.index)\n",
    "df_model['Predictions'] = predict_y_gbm\n",
    "df_model['Correct'] = 0\n",
    "df_model.ix[(df_model.Predictions == df_model.has_booking) & (df_model.has_booking == 1), 'Correct'] = 1\n",
    "df_model = df_model.sort_index()\n",
    "correct = df_model['Correct']\n",
    "predicitons = df_model['Predictions']\n",
    "\n",
    "tot_pred = sum(predicitons)\n",
    "tot_correct = sum(correct)\n",
    "tot_backorder = sum(df_model['has_booking'])\n",
    "accuracy = (tot_correct / float(tot_pred)) * 100\n",
    "print(tot_backorder, ' Bookings ', tot_pred, ' Predicitons ', tot_correct, ' correct ', accuracy, ' percentage')"
   ]
  },
  {
   "cell_type": "markdown",
   "metadata": {},
   "source": [
    "## Model Performance"
   ]
  },
  {
   "cell_type": "code",
   "execution_count": 9,
   "metadata": {
    "collapsed": false
   },
   "outputs": [
    {
     "data": {
      "image/png": "[encoded data removed]",
      "text/plain": [
       "<matplotlib.figure.Figure at 0x1a543012b0>"
      ]
     },
     "metadata": {},
     "output_type": "display_data"
    },
    {
     "name": "stdout",
     "output_type": "stream",
     "text": [
      "[0.3509415830337009, 0.875905380731093, 0.9721216995040879, 0.04754350889843007]\n"
     ]
    }
   ],
   "source": [
    "from sklearn import metrics #accuracy measure\n",
    "from sklearn.metrics import confusion_matrix #for confusion matrix\n",
    "\n",
    "score_ll = metrics.log_loss(y_test, predict_y_proba_gbm)\n",
    "score_ac = metrics.accuracy_score(y_test, predict_y_gbm)\n",
    "score_pr = metrics.precision_score(y_test, predict_y_gbm)\n",
    "score_re = metrics.recall_score(y_test, predict_y_gbm)\n",
    "score = [score_ll, score_ac, score_pr, score_re]\n",
    "    \n",
    "ax = lightgbm.plot_importance(model, max_num_features=10, figsize=(16, 5))\n",
    "plt.show()\n",
    "    \n",
    "gbmDF = pd.DataFrame([tuple(model.feature_importance())], columns= model.feature_name())\n",
    "gbmDF.sort_index(axis=1, inplace=True)\n",
    "\n",
    "print (score)\n"
   ]
  },
  {
   "cell_type": "code",
   "execution_count": null,
   "metadata": {
    "collapsed": true
   },
   "outputs": [],
   "source": []
  }
 ],
 "metadata": {
  "kernelspec": {
   "display_name": "Python [conda env:anaconda]",
   "language": "python",
   "name": "conda-env-anaconda-py"
  },
  "language_info": {
   "codemirror_mode": {
    "name": "ipython",
    "version": 3
   },
   "file_extension": ".py",
   "mimetype": "text/x-python",
   "name": "python",
   "nbconvert_exporter": "python",
   "pygments_lexer": "ipython3",
   "version": "3.5.2"
  }
 },
 "nbformat": 4,
 "nbformat_minor": 1
}
